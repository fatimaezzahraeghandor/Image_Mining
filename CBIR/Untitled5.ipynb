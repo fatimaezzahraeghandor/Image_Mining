{
 "cells": [
  {
   "cell_type": "code",
   "execution_count": 1,
   "id": "ab5acbf4",
   "metadata": {},
   "outputs": [
    {
     "name": "stdout",
     "output_type": "stream",
     "text": [
      "vvv\n"
     ]
    }
   ],
   "source": [
    "print(\"vvv\")"
   ]
  },
  {
   "cell_type": "code",
   "execution_count": 4,
   "id": "65f04bf1",
   "metadata": {},
   "outputs": [
    {
     "ename": "SyntaxError",
     "evalue": "invalid syntax (Temp/ipykernel_18400/2523993831.py, line 1)",
     "output_type": "error",
     "traceback": [
      "\u001b[1;36m  File \u001b[1;32m\"C:\\Users\\admin\\AppData\\Local\\Temp/ipykernel_18400/2523993831.py\"\u001b[1;36m, line \u001b[1;32m1\u001b[0m\n\u001b[1;33m    <h2>3.2\tRecherche par image entière</h2>\u001b[0m\n\u001b[1;37m    ^\u001b[0m\n\u001b[1;31mSyntaxError\u001b[0m\u001b[1;31m:\u001b[0m invalid syntax\n"
     ]
    }
   ],
   "source": [
    "<h2>3.2\tRecherche par image entière</h2>"
   ]
  },
  {
   "cell_type": "code",
   "execution_count": 8,
   "id": "f15c5efd",
   "metadata": {},
   "outputs": [],
   "source": [
    "#@ hggg"
   ]
  },
  {
   "cell_type": "code",
   "execution_count": 9,
   "id": "9ff350fb",
   "metadata": {},
   "outputs": [
    {
     "ename": "NameError",
     "evalue": "name 'ggggg' is not defined",
     "output_type": "error",
     "traceback": [
      "\u001b[1;31m---------------------------------------------------------------------------\u001b[0m",
      "\u001b[1;31mNameError\u001b[0m                                 Traceback (most recent call last)",
      "\u001b[1;32m~\\AppData\\Local\\Temp/ipykernel_18400/2875870001.py\u001b[0m in \u001b[0;36m<module>\u001b[1;34m\u001b[0m\n\u001b[1;32m----> 1\u001b[1;33m \u001b[0mggggg\u001b[0m\u001b[1;33m\u001b[0m\u001b[1;33m\u001b[0m\u001b[0m\n\u001b[0m",
      "\u001b[1;31mNameError\u001b[0m: name 'ggggg' is not defined"
     ]
    }
   ],
   "source": [
    "ggggg"
   ]
  },
  {
   "cell_type": "code",
   "execution_count": 10,
   "id": "2e6f69ee",
   "metadata": {},
   "outputs": [
    {
     "ename": "SyntaxError",
     "evalue": "invalid syntax (Temp/ipykernel_18400/1703876854.py, line 2)",
     "output_type": "error",
     "traceback": [
      "\u001b[1;36m  File \u001b[1;32m\"C:\\Users\\admin\\AppData\\Local\\Temp/ipykernel_18400/1703876854.py\"\u001b[1;36m, line \u001b[1;32m2\u001b[0m\n\u001b[1;33m    gghhg .\u001b[0m\n\u001b[1;37m           ^\u001b[0m\n\u001b[1;31mSyntaxError\u001b[0m\u001b[1;31m:\u001b[0m invalid syntax\n"
     ]
    }
   ],
   "source": [
    "ffff,\n",
    "gghhg ."
   ]
  },
  {
   "cell_type": "code",
   "execution_count": 12,
   "id": "210a0f5e",
   "metadata": {},
   "outputs": [],
   "source": [
    "######## th"
   ]
  },
  {
   "cell_type": "markdown",
   "id": "aa03b54a",
   "metadata": {},
   "source": [
    "# this"
   ]
  },
  {
   "cell_type": "code",
   "execution_count": null,
   "id": "c9938fd0",
   "metadata": {},
   "outputs": [],
   "source": []
  }
 ],
 "metadata": {
  "kernelspec": {
   "display_name": "Python 3 (ipykernel)",
   "language": "python",
   "name": "python3"
  },
  "language_info": {
   "codemirror_mode": {
    "name": "ipython",
    "version": 3
   },
   "file_extension": ".py",
   "mimetype": "text/x-python",
   "name": "python",
   "nbconvert_exporter": "python",
   "pygments_lexer": "ipython3",
   "version": "3.9.13"
  }
 },
 "nbformat": 4,
 "nbformat_minor": 5
}
